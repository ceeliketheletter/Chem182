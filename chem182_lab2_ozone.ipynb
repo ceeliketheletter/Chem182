{
 "cells": [
  {
   "cell_type": "code",
   "execution_count": 113,
   "metadata": {},
   "outputs": [],
   "source": [
    "import numpy as np\n",
    "import matplotlib.pyplot as plt\n",
    "import datetime\n",
    "import astropy.coordinates"
   ]
  },
  {
   "cell_type": "markdown",
   "metadata": {},
   "source": [
    "# Lab 2:  Ground- and Space-Based Ozone Column Measurements \n",
    "In this laboratory exercise, the amount of ozone in an air column between the ground and the top  of  the  atmosphere  will  be  measured  using  an  ozone  spectrophotometer  and  then  analyzed  and  compared with satellite observations available on the web.  "
   ]
  },
  {
   "cell_type": "markdown",
   "metadata": {},
   "source": [
    "In  Lab  1,  recall  that  a  spectrometer  consisting  of  a  light  source,  a  monochromator,  and  a  light detector was used to measure the amount of radiation absorbed at particular wavelengths by a sample of iodine. If we had so chosen, we could have measured the amount of iodine vapor in the sample vial using the Beer-Lambert Law if we knew the proportionality constant, $\\alpha$, for gaseous $I_2$ in the following equation (e.g., Atkins handout, pg 464):"
   ]
  },
  {
   "cell_type": "markdown",
   "metadata": {},
   "source": [
    "# $ \\frac{I}{I_0} = e^{- \\alpha * C * l} $\n",
    "where\n",
    "$I_0$  = Light intensity of a particular wavelength $\\lambda$ before it passes through the sample"
   ]
  },
  {
   "cell_type": "markdown",
   "metadata": {},
   "source": [
    "I  = Light intensity (at $\\lambda$) remaining after passing through the sample"
   ]
  },
  {
   "cell_type": "markdown",
   "metadata": {},
   "source": [
    "$\\alpha$ = the molar absorption coefficient at $\\lambda$ (in appropriate units for the equation used) "
   ]
  },
  {
   "cell_type": "markdown",
   "metadata": {},
   "source": [
    "[ C ] =  Concentration of species C "
   ]
  },
  {
   "cell_type": "markdown",
   "metadata": {},
   "source": [
    "L = Thickness of sample  "
   ]
  },
  {
   "cell_type": "markdown",
   "metadata": {},
   "source": [
    "Using  similar  principles,  in  this  lab  you  will  measure  the  amount  of  light  at  several  different  wavelengths  absorbed  by  ozone  in  the  atmosphere  as  it  undergoes  an  electronic  transition.  In  this  case, the light source is the sun, the sample \"vial\" is the entire atmosphere, and the light detectors and  light  filters  are  contained  in  a  compact  hand-held  instrument  that  measures  the  amount  of  radiation absorbed by ozone at several different wavelengths. Because we are working in “the real world”, applying the Beer-Lambert Law is not quite as straight-forward as in a controlled laboratory setting. In this case, the amount of light from the sun entering at the top of the atmosphere ($I_o$) is not directly known. Furthermore, some amount of the incoming radiation, $I_o$, is not absorbed by ozone but  is  \"scattered\"  by  aerosol  particles  (Mie  scattering)  and  air  molecules  (Rayleigh  scattering)  and  therefore  does  not  make  it  to  the  detectors.  To  address  these  problems,  the  radiation  at  multiple  wavelengths that are absorbed by ozone and wavelengths that are NOT absorbed by ozone (but that are  scattered)  are  measured.    Using  the  measured  ratios  of  light  intensities  at  several  different  wavelengths,  the  amount  of  ozone  in  the  atmosphere  between  the  instrument  and  the  sun  can  be  calculated. "
   ]
  },
  {
   "cell_type": "markdown",
   "metadata": {},
   "source": [
    "## CALCULATIONS \n",
    "1.Data  from  the  Microtops  instrument  for  measurements  taken  by  the  182  class  this  year,  as  well  as  a  number  of  previous  measurements,  will  be  available  on  bcourses.  Measurements  taken  by  this  year's  class  will  be  in  a  text  file  that  was  output  directly  from  the  Microtops."
   ]
  },
  {
   "cell_type": "code",
   "execution_count": 56,
   "metadata": {},
   "outputs": [],
   "source": [
    "all_rows = np.loadtxt('chem182_lab2.txt', delimiter= ',', skiprows= 7, dtype= 'str')"
   ]
  },
  {
   "cell_type": "code",
   "execution_count": null,
   "metadata": {},
   "outputs": [],
   "source": []
  },
  {
   "cell_type": "markdown",
   "metadata": {},
   "source": [
    "2.Find the five measurements corresponding to your ID number. Although the instrument has already  calculated  the  total  column  ozone,  you  will  use  the  ratios  of  individual  pairs  of  wavelengths  as  on  page  45  of  the  manual  and  the  combination  of  three  wavelengths  as  on  page 54 to calculate the total column ozone yourself for your five measurements.  Since you will be using the same algorithm and \"raw\" data as the microprocessor in the MICROTOPS instrument, you should get the same values. Use a spreadsheet to calculate the following:"
   ]
  },
  {
   "cell_type": "code",
   "execution_count": 188,
   "metadata": {},
   "outputs": [
    {
     "name": "stdout",
     "output_type": "stream",
     "text": [
      "DATE 2458521.5\n"
     ]
    }
   ],
   "source": [
    "my_rows = all_rows[-7:]\n",
    "category = all_rows[0]\n",
    "\n",
    "\n",
    "for i in range(len(category)):\n",
    "    if category[i] == 'DATE':\n",
    "    #for j in range(len(my_rows)):\n",
    "        date_str = my_rows[0][i]\n",
    "        julian = julian_date(date_str)\n",
    "        print(category[i],julian)"
   ]
  },
  {
   "cell_type": "markdown",
   "metadata": {},
   "source": [
    "a. Calculate  secZ,  m,  h,  ν, μ  using  the  equations  from  the  manual  (p.  44-45).  See  the  lower part of the table in Appendix II below for values for these calculations for the measurements made in Philadelphia on March 29, 2006 at the Microtops factory."
   ]
  },
  {
   "cell_type": "code",
   "execution_count": 173,
   "metadata": {},
   "outputs": [],
   "source": [
    "def sunpos(date_str=None):\n",
    "    \"\"\" Return (ra,dec) of the sun at the given Julian Date. \n",
    "    Parameters\n",
    "    -----------\n",
    "    jd: float, Julian Date, default=now\n",
    "    Returns\n",
    "    -------\n",
    "    ra : float, right ascension in degrees\n",
    "    dec: float, declination in degrees\n",
    "    \"\"\"\n",
    "    format_str = '%m/%d/%Y'\n",
    "    date_time = datetime.datetime.strptime(date_str, format_str)\n",
    "    t = astropy.time.Time(date_time)\n",
    "    julian = t.jd\n",
    "    \n",
    "    if julian: t = astropy.time.Time(julian,format='jd')\n",
    "    else: t = astropy.time.Time(time.time(),format='unix')\n",
    "    sun = astropy.coordinates.get_sun(time=t)\n",
    "    return sun.ra.deg, sun.dec.deg"
   ]
  },
  {
   "cell_type": "code",
   "execution_count": null,
   "metadata": {},
   "outputs": [],
   "source": []
  },
  {
   "cell_type": "code",
   "execution_count": 665,
   "metadata": {},
   "outputs": [],
   "source": [
    "## Constants ##\n",
    "R = 6371 #km mean earth radius \n",
    "r = np.float(my_rows[0][5])/1000 #0.095 km, altitude of ozone station above sea level in km\n",
    "latitude = np.float(my_rows[0][3]) #37.867\n",
    "v = (R + r)**2/ (R + h)**2 #factor for height of the ozone layer\n",
    "h = 26 - 0.1 * latitude #height of ozone layer above sea level \n",
    "P0 = 1013.25 #mB standard pressure\n",
    "\n",
    "#Z_predicted = 90 + sunpos(my_rows[0][1])[1] #degrees from  zenith\n",
    "\n",
    "\n",
    "##FROM DOCUMENT\n",
    "A1=2.945E+00\n",
    "A2=1.097E+00\n",
    "B1=1.024E-01\n",
    "B2=9.330E-02\n",
    "L1=7.206E-01\n",
    "L2=8.826E-01"
   ]
  },
  {
   "cell_type": "code",
   "execution_count": null,
   "metadata": {},
   "outputs": [],
   "source": []
  },
  {
   "cell_type": "markdown",
   "metadata": {},
   "source": [
    "b. Calculate values for the total column ozone ($O3_{305.5-312.5}, O3_{312.5-320}$) for each of your\n",
    "individual measurements based on the ratios of individual pairs of wavelengths using\n",
    "the equation on pg 45 of the manual, the wavelength pairs noted in the subscripts\n",
    "above, and the instrument calibration parameters."
   ]
  },
  {
   "cell_type": "code",
   "execution_count": 698,
   "metadata": {},
   "outputs": [],
   "source": [
    "def find_alpha(wavelength1, wavelength2):\n",
    "    #alpha = (2.1349e19)*np.e**(-0.14052*wavelength)\n",
    "    if (wavelength1, wavelength2) == (305.5, 312.5):\n",
    "        alpha = A1\n",
    "    elif (wavelength1, wavelength2) == (312.5, 320.5):\n",
    "        alpha = A2\n",
    "    return alpha\n",
    "\n",
    "def find_beta(wavelength1, wavelength2):\n",
    "    #beta = 16.407 - 0.085284*(wavelength) + 0.00011522 * (wavelength)**2\n",
    "    if (wavelength1, wavelength2) == (305.5, 312.5):\n",
    "        beta = B1\n",
    "    elif (wavelength1, wavelength2) == (312.5, 320.5):\n",
    "        beta = B2\n",
    "    return beta\n",
    "\n",
    "def find_L(wavelength1, wavelength2):\n",
    "    if (wavelength1, wavelength2) == (305.5, 312.5):\n",
    "        L = L1\n",
    "    elif (wavelength1, wavelength2) == (312.5, 320.5):\n",
    "        L = L2\n",
    "    return L\n",
    "\n",
    "def I1I2(wavelength1, wavelength2):\n",
    "    if (wavelength1, wavelength2) == (305.5, 312.5):\n",
    "        I1I2 = R305_312\n",
    "        #I1I2 = np.array(sig305)/np.array(sig312)\n",
    "    elif (wavelength1, wavelength2) == (312.5, 320.5):\n",
    "        I1I2 = R312_320\n",
    "        #I1I2 = np.array(sig312)/np.array(sig320)\n",
    "    return I1I2"
   ]
  },
  {
   "cell_type": "code",
   "execution_count": 699,
   "metadata": {},
   "outputs": [],
   "source": [
    "def total_ozone(wavelength1, wavelength2, mu, m, P):\n",
    "    \n",
    "    #alpha12 = alpha(wavelength1) - alpha(wavelength2) #the difference in ozone coefficients in channels 1 and 2\n",
    "    #beta12 = beta(wavelength1) - beta(wavelength2) #the difference in air scattering coefficients in channels 1 and 2\n",
    "    \n",
    "    \n",
    "    alpha = find_alpha(wavelength1, wavelength2)\n",
    "    beta = find_beta(wavelength1, wavelength2)\n",
    "    L = find_L(wavelength1, wavelength2)\n",
    "    \n",
    "    #I1 = #intensity of light before it passes through atmosphere\n",
    "    #I2 = I2(wavelength1, wavelength2) #intensity of light after it passes through atmosphere\n",
    "    \n",
    "    omega = (1000 * (L - np.log(I1I2(wavelength1, wavelength2)) - beta * m*(P/P0))) / (alpha * mu)\n",
    "    \n",
    "    \n",
    "    return omega"
   ]
  },
  {
   "cell_type": "code",
   "execution_count": 700,
   "metadata": {},
   "outputs": [
    {
     "name": "stdout",
     "output_type": "stream",
     "text": [
      "h =  22.2133 , v =  0.9930926630657587\n",
      "0\n",
      "secZ =  1.9122472256312557 , m =  1.9075837503141635 , mu =  1.894939580573772 , Z =  58.47\n",
      "OMEGA1:  calculated =  313.1983797801157 , actual =  313.3 , difference = -0.10162021988429615\n",
      "OMEGA2:  calculated =  369.6375215113128 , actual =  369.5 , difference = 0.13752151131279788\n",
      "1\n",
      "secZ =  1.9138808554309426 , m =  1.9092025329938767 , mu =  1.8965182223675243 , Z =  58.5\n",
      "OMEGA1:  calculated =  311.87785849911074 , actual =  311.9 , difference = -0.022141500889233612\n",
      "OMEGA2:  calculated =  362.8983906091241 , actual =  362.8 , difference = 0.09839060912406694\n",
      "2\n",
      "secZ =  1.914971785383377 , m =  1.9102835329816503 , mu =  1.8975723756788765 , Z =  58.52\n",
      "OMEGA1:  calculated =  314.79168256841945 , actual =  314.8 , difference = -0.008317431580564971\n",
      "OMEGA2:  calculated =  292.90838592574534 , actual =  292.8 , difference = 0.10838592574532413\n",
      "3\n",
      "secZ =  1.916064193325401 , m =  1.9113659853569183 , mu =  1.8986279122555794 , Z =  58.54\n",
      "OMEGA1:  calculated =  322.764716245467 , actual =  322.8 , difference = -0.03528375453299759\n",
      "OMEGA2:  calculated =  312.0749017925181 , actual =  311.9 , difference = 0.17490179251814197\n",
      "4\n",
      "secZ =  1.9177055825899005 , m =  1.912992393089602 , mu =  1.9002138162088198 , Z =  58.57\n",
      "OMEGA1:  calculated =  324.1435437555774 , actual =  324.2 , difference = -0.05645624442257713\n",
      "OMEGA2:  calculated =  304.48440734501753 , actual =  304.4 , difference = 0.08440734501755287\n",
      "5\n",
      "secZ =  1.9188016977595899 , m =  1.9140784883312851 , mu =  1.9012728218900783 , Z =  58.59\n",
      "OMEGA1:  calculated =  315.8972648592777 , actual =  316.0 , difference = -0.10273514072230228\n",
      "OMEGA2:  calculated =  293.4786665743289 , actual =  293.4 , difference = 0.07866657432890634\n",
      "6\n",
      "secZ =  1.9232010648114863 , m =  1.9184375159693696 , mu =  1.9055227901762568 , Z =  58.67\n",
      "OMEGA1:  calculated =  324.27844579031836 , actual =  324.4 , difference = -0.12155420968161934\n",
      "OMEGA2:  calculated =  348.8368400534335 , actual =  348.7 , difference = 0.13684005343350236\n"
     ]
    }
   ],
   "source": [
    "wavelength1 = 305.5\n",
    "wavelength2 = 312.5\n",
    "wavelength3 = 320.5\n",
    "\n",
    "print('h = ', h, ', v = ', v, )\n",
    "\n",
    "for i in range(len(my_rows)):\n",
    "    print(i)\n",
    "    P = np.float(my_rows[i][6]) \n",
    "    Z_actual = SZA[i] #zenith angle\n",
    "    secZ = 1/ (np.cos(np.radians(Z_actual))) #The air mass is the secant of the zenith angle\n",
    "    m = secZ - (0.0018167 * (secZ -1)) - (0.002875 * (secZ -1)**2) - (0.0008083*(secZ -1)**3)\n",
    "    mu = 1/(np.sqrt(1 - (v * np.sin(np.radians(Z_actual))**2)))\n",
    "    \n",
    "    print ('secZ = ', secZ, ', m = ', m, ', mu = ', mu, ', Z = ', Z_actual)\n",
    "    \n",
    "    OZ312_320 = np.float(my_rows[i][19])\n",
    "    OZ305_312 = np.float(my_rows[i][18])\n",
    "    \n",
    "    omega1 = total_ozone(wavelength1, wavelength2, mu, m, P)\n",
    "    print('OMEGA1:  calculated = ', omega1[i], ', actual = ', OZ305_312, ', difference =', omega1[i] - OZ305_312)\n",
    "    omega2 = total_ozone(wavelength2, wavelength3, mu, m, P)\n",
    "    print('OMEGA2:  calculated = ', omega2[i], ', actual = ', OZ312_320, ', difference =', omega2[i] - OZ312_320)\n",
    "    #OMEGA1.append(omega1[i])\n",
    "    #OMEGA2.append(omega2[i])"
   ]
  },
  {
   "cell_type": "code",
   "execution_count": null,
   "metadata": {},
   "outputs": [],
   "source": []
  },
  {
   "cell_type": "code",
   "execution_count": null,
   "metadata": {},
   "outputs": [],
   "source": []
  },
  {
   "cell_type": "code",
   "execution_count": null,
   "metadata": {},
   "outputs": [],
   "source": []
  },
  {
   "cell_type": "markdown",
   "metadata": {},
   "source": [
    "c. Also calculate values for the total column ozone using two pairs of wavelengths\n",
    "simultaneously (305.5/312.5 and 312.5/320nm), the instrument calibration\n",
    "parameters, and the equation on p. 54 of the manual. [Note that the right side of the\n",
    "equation on p. 54 needs to be multiplied by 1000 for the units to work out.]"
   ]
  },
  {
   "cell_type": "code",
   "execution_count": 642,
   "metadata": {},
   "outputs": [],
   "source": [
    "        "
   ]
  },
  {
   "cell_type": "code",
   "execution_count": 762,
   "metadata": {},
   "outputs": [],
   "source": [
    "def corrected_ozone(OZ305_312,I1I2, OZ312_320, I2I3, m, P, mu):\n",
    "    omega = 1000* ((L1 - np.log(I1I2)) - (L2 - np.log(I2I3)) - ((B1 - B2)* (m * (P/P0)))) / ((A1 - A2) *mu)\n",
    "    #omega = 1000* (np.log((OZ305_312 * 1/I1I2) * (1/(OZ312_320 * 1/I2I3))) - ((B1 - B2)* (m * (P/P0)))) / ((A1 - A2) *mu)\n",
    "\n",
    "    return omega"
   ]
  },
  {
   "cell_type": "code",
   "execution_count": 767,
   "metadata": {},
   "outputs": [
    {
     "name": "stdout",
     "output_type": "stream",
     "text": [
      "0 CORRECTED OZONE:  calculated =  279.69527454249504 , actual =  279.9 , difference =  -0.2047254575049351\n",
      "1 CORRECTED OZONE:  calculated =  281.591319687052 , actual =  281.7 , difference =  -0.10868031294796765\n",
      "2 CORRECTED OZONE:  calculated =  327.7819295473229 , actual =  327.9 , difference =  -0.11807045267710237\n",
      "3 CORRECTED OZONE:  calculated =  329.11034744399785 , actual =  329.2 , difference =  -0.08965255600213595\n",
      "4 CORRECTED OZONE:  calculated =  335.8134964841402 , actual =  336.0 , difference =  -0.18650351585978342\n",
      "5 CORRECTED OZONE:  calculated =  329.205274771934 , actual =  329.4 , difference =  -0.1947252280659768\n",
      "6 CORRECTED OZONE:  calculated =  309.7002214901899 , actual =  309.9 , difference =  -0.1997785098100735\n"
     ]
    }
   ],
   "source": [
    "for i in range(len(my_rows)):\n",
    "    I1I2 = R305_312[i]\n",
    "    OZ305_312 = np.float(my_rows[i][18]) \n",
    "    I2I3 = R312_320[i]\n",
    "    OZ312_320 = np.float(my_rows[i][19])\n",
    "    P = np.float(my_rows[i][6]) \n",
    "    Z_actual = SZA[i] #zenith angle\n",
    "    secZ = 1/ (np.cos(np.radians(Z_actual))) #The air mass is the secant of the zenith angle\n",
    "    m = secZ - (0.0018167 * (secZ -1)) - (0.002875 * (secZ -1)**2) - (0.0008083*(secZ -1)**3)\n",
    "    mu = 1/(np.sqrt(1 - (v * np.sin(np.radians(Z_actual))**2))) \n",
    "    OZONE = np.float(my_rows[i][20])\n",
    "    \n",
    "    omega = corrected_ozone(OZ305_312,I1I2, OZ312_320, I2I3, m, P, mu)\n",
    "    print(i, 'CORRECTED OZONE:  calculated = ', omega, ', actual = ', OZONE, ', difference = ', omega - OZONE)\n",
    "    #column_ozone.append(omega)\n",
    "    #many_ozone.append(OZONE)"
   ]
  },
  {
   "cell_type": "markdown",
   "metadata": {},
   "source": [
    "d. Take the average and standard deviation of your 5 total column ozone measurements\n",
    "that you calculated in item 2c above."
   ]
  },
  {
   "cell_type": "code",
   "execution_count": 768,
   "metadata": {},
   "outputs": [],
   "source": [
    "avg = np.mean(column_ozone)\n",
    "std = np.std(column_ozone)"
   ]
  },
  {
   "cell_type": "code",
   "execution_count": 769,
   "metadata": {},
   "outputs": [
    {
     "name": "stdout",
     "output_type": "stream",
     "text": [
      "Calculated Column Ozone Measurement =  313.27112342387596 +- 21.932360982320926\n",
      "Collected Column Ozone Measurement =  313.42857142857144 +- 21.92856677524381\n"
     ]
    }
   ],
   "source": [
    "print('Calculated Column Ozone Measurement = ', avg, '+-', std)\n",
    "print('Collected Column Ozone Measurement = ', np.mean(many_ozone), '+-', np.std(many_ozone))"
   ]
  },
  {
   "cell_type": "markdown",
   "metadata": {},
   "source": [
    "3.Compare the result from item 2d above with measurements from the OMI instrument on the\n",
    "Aura satellite. At the following website you can enter a latitude, longitude, and date and\n",
    "have a value for the overhead total column ozone returned on the screen:\n",
    "##### On Feb 7, 2019 North America is in Green, which represents values between 250-325, and the collected data is well within that range, so our data checks out with NASA's data"
   ]
  },
  {
   "cell_type": "markdown",
   "metadata": {},
   "source": [
    "4.Calculate an average and standard deviation for the total column ozone (the value calculated\n",
    "for 2 pairs of wavelengths from pg 54 of the manual from the Microtops output data file) for\n",
    "each day that ozone measurements are available in the text file – that is, for more than just\n",
    "your own scans. Using the same website as above, compare each of these measurements to\n",
    "the satellite data."
   ]
  },
  {
   "cell_type": "code",
   "execution_count": 1065,
   "metadata": {},
   "outputs": [],
   "source": [
    "for i in range(len(category)):\n",
    "    if category[i] == 'R312_320':\n",
    "        for j in range(len(all_rows[1:])):\n",
    "            value = all_rows[j+1][i]\n",
    "            #if value == '02/07/2019':\n",
    "            #print(j+1, i, category[i],value)"
   ]
  },
  {
   "cell_type": "code",
   "execution_count": 871,
   "metadata": {},
   "outputs": [],
   "source": [
    "seventh = all_rows[155:210]\n",
    "fifth = all_rows[1:154]"
   ]
  },
  {
   "cell_type": "code",
   "execution_count": 882,
   "metadata": {},
   "outputs": [],
   "source": [
    "column_ozone_fifth = []\n",
    "calculated_column_ozone_fifth = []\n",
    "for i in range(len(fifth)):\n",
    "    I1I2 = np.float(fifth[i][14])\n",
    "    OZ305_312 = np.float(fifth[i][18]) \n",
    "    I2I3 = np.float(fifth[i][15])\n",
    "    OZ312_320 = np.float(fifth[i][19])\n",
    "    P = np.float(fifth[i][6]) \n",
    "    Z_actual = np.float(fifth[i][7]) #zenith angle\n",
    "    secZ = 1/ (np.cos(np.radians(Z_actual))) #The air mass is the secant of the zenith angle\n",
    "    m = secZ - (0.0018167 * (secZ -1)) - (0.002875 * (secZ -1)**2) - (0.0008083*(secZ -1)**3)\n",
    "    mu = 1/(np.sqrt(1 - (v * np.sin(np.radians(Z_actual))**2))) \n",
    "    OZONE = np.float(fifth[i][20])\n",
    "    \n",
    "    omega = corrected_ozone(OZ305_312,I1I2, OZ312_320, I2I3, m, P, mu)\n",
    "    #print(i, 'CORRECTED OZONE:  calculated = ', omega, ', actual = ', OZONE, ', difference = ', omega - OZONE)\n",
    "    column_ozone_fifth.append(omega)\n",
    "    calculated_column_ozone_fifth.append(OZONE)"
   ]
  },
  {
   "cell_type": "code",
   "execution_count": 886,
   "metadata": {},
   "outputs": [],
   "source": [
    "column_ozone_seventh = []\n",
    "calculated_column_ozone_seventh = []\n",
    "for i in range(len(seventh)):\n",
    "    I1I2 = np.float(seventh[i][14])\n",
    "    OZ305_312 = np.float(seventh[i][18]) \n",
    "    I2I3 = np.float(seventh[i][15])\n",
    "    OZ312_320 = np.float(seventh[i][19])\n",
    "    P = np.float(seventh[i][6]) \n",
    "    Z_actual = np.float(seventh[i][7]) #zenith angle\n",
    "    secZ = 1/ (np.cos(np.radians(Z_actual))) #The air mass is the secant of the zenith angle\n",
    "    m = secZ - (0.0018167 * (secZ -1)) - (0.002875 * (secZ -1)**2) - (0.0008083*(secZ -1)**3)\n",
    "    mu = 1/(np.sqrt(1 - (v * np.sin(np.radians(Z_actual))**2))) \n",
    "    OZONE = np.float(seventh[i][20])\n",
    "    \n",
    "    omega = corrected_ozone(OZ305_312,I1I2, OZ312_320, I2I3, m, P, mu)\n",
    "    #print(i, 'CORRECTED OZONE:  calculated = ', omega, ', actual = ', OZONE, ', difference = ', omega - OZONE)\n",
    "    column_ozone_seventh.append(omega)\n",
    "    calculated_column_ozone_seventh.append(OZONE)"
   ]
  },
  {
   "cell_type": "code",
   "execution_count": 887,
   "metadata": {},
   "outputs": [
    {
     "name": "stdout",
     "output_type": "stream",
     "text": [
      "2/5 Calculated Column Ozone Measurement =  301.290970335896 +- 14.581190427833036\n",
      "2/7 Calculated Column Ozone Measurement =  307.0451838298857 +- 24.074529796983366\n"
     ]
    }
   ],
   "source": [
    "print('2/5 Calculated Column Ozone Measurement = ', np.mean(column_ozone_fifth), '+-', np.std(column_ozone_fifth))\n",
    "#print('2/5 Collected Column Ozone Measurement = ', np.mean(calculated_column_ozone_fifth), '+-', np.std(calculated_column_ozone_fifth))\n",
    "print('2/7 Calculated Column Ozone Measurement = ', np.mean(column_ozone_seventh), '+-', np.std(column_ozone_seventh))\n"
   ]
  },
  {
   "cell_type": "code",
   "execution_count": 989,
   "metadata": {},
   "outputs": [],
   "source": [
    "def corrected_ozone(A1, A2, B1, B2, L1, L2, I1I2, I2I3, m, P, mu):\n",
    "    omega = 1000* ((L1 - np.log(I1I2)) - (L2 - np.log(I2I3)) - ((B1 - B2)* (m * (P/P0)))) / ((A1 - A2) *mu)\n",
    "    return omega\n",
    "\n",
    "def calculate_mean_ozone(array, A1, A2, B1, B2, L1, L2):\n",
    "    '''This function will take an array with data from a single date and return the average corrected ozone measurement.\n",
    "    The 0th row should be the categories '''\n",
    "    date = array[0][1]\n",
    "    \n",
    "    \n",
    "    ## Constants that will change with every date ##\n",
    "    R = 6371 #km mean earth radius \n",
    "    r = np.float(array[0][5])/1000 #0.095 km, altitude of ozone station above sea level in km\n",
    "    latitude = np.float(array[0][3]) #37.867\n",
    "    h = 26 - 0.1 * latitude #height of ozone layer above sea level \n",
    "    v = (R + r)**2/ (R + h)**2 #factor for height of the ozone layer\n",
    "    P0 = 1013.25 #mB standard pressure\n",
    "\n",
    "    column_ozone = []\n",
    "    calculated_column_ozone = []\n",
    "    \n",
    "    for i in range(len(array)):\n",
    "        ## Constants that will change with every line ##\n",
    "        I1I2 = np.float(array[i][14])\n",
    "        OZ305_312 = np.float(array[i][18]) \n",
    "        I2I3 = np.float(array[i][15])\n",
    "        OZ312_320 = np.float(array[i][19])\n",
    "        P = np.float(array[i][6]) \n",
    "        Z_actual = np.float(array[i][7]) #zenith angle\n",
    "        secZ = 1/ (np.cos(np.radians(Z_actual))) #The air mass is the secant of the zenith angle\n",
    "        m = secZ - (0.0018167 * (secZ -1)) - (0.002875 * (secZ -1)**2) - (0.0008083*(secZ -1)**3)\n",
    "        mu = 1/(np.sqrt(1 - (v * np.sin(np.radians(Z_actual))**2))) \n",
    "        OZONE = np.float(array[i][20])\n",
    "        \n",
    "        #Calculate\n",
    "        omega = corrected_ozone(A1, A2, B1, B2, L1, L2, I1I2, I2I3, m, P, mu)\n",
    "        \n",
    "        column_ozone.append(omega)\n",
    "        calculated_column_ozone.append(OZONE)\n",
    "    \n",
    "    avg = np.mean(column_ozone)\n",
    "    std = np.std(column_ozone)\n",
    "    return(date, avg, std)\n",
    "    "
   ]
  },
  {
   "cell_type": "code",
   "execution_count": 990,
   "metadata": {},
   "outputs": [
    {
     "name": "stdout",
     "output_type": "stream",
     "text": [
      "('02/05/2019', 301.290970335896, 14.581190427833036)\n",
      "('02/07/2019', 307.0451838298857, 24.074529796983366)\n"
     ]
    }
   ],
   "source": [
    "#All_rows\n",
    "##FROM DOCUMENT\n",
    "A1=2.945E+00\n",
    "A2=1.097E+00\n",
    "B1=1.024E-01\n",
    "B2=9.330E-02\n",
    "L1=7.206E-01\n",
    "L2=8.826E-01\n",
    "\n",
    "feb_5_2019 = all_rows[1:154]\n",
    "feb_7_2019 = all_rows[155:210]\n",
    "\n",
    "feb_5_2019_ozone = calculate_mean_ozone(feb_5_2019, A1, A2, B1, B2, L1, L2)\n",
    "feb_7_2019_ozone = calculate_mean_ozone(feb_7_2019, A1, A2, B1, B2, L1, L2)\n",
    "\n",
    "print(feb_5_2019_ozone)\n",
    "print(feb_7_2019_ozone)"
   ]
  },
  {
   "cell_type": "code",
   "execution_count": 909,
   "metadata": {},
   "outputs": [],
   "source": []
  },
  {
   "cell_type": "code",
   "execution_count": null,
   "metadata": {},
   "outputs": [],
   "source": [
    "previous_data = np.loadtxt('/Users/CEE/Downloads/Lab2_Previousdata.csv', delimiter = ',', dtype = 'str')"
   ]
  },
  {
   "cell_type": "code",
   "execution_count": 1066,
   "metadata": {},
   "outputs": [
    {
     "ename": "SyntaxError",
     "evalue": "unexpected EOF while parsing (<ipython-input-1066-df0c61548f4c>, line 10)",
     "output_type": "error",
     "traceback": [
      "\u001b[0;36m  File \u001b[0;32m\"<ipython-input-1066-df0c61548f4c>\"\u001b[0;36m, line \u001b[0;32m10\u001b[0m\n\u001b[0;31m    #print(previous_data[j][i], j)\u001b[0m\n\u001b[0m                                  ^\u001b[0m\n\u001b[0;31mSyntaxError\u001b[0m\u001b[0;31m:\u001b[0m unexpected EOF while parsing\n"
     ]
    }
   ],
   "source": [
    "category_previous = previous_data[0]\n",
    "\n",
    "for i in range(len(category_previous)):\n",
    "    if category_previous[i] == 'DATE':\n",
    "        for j in range(len(previous_data[1:])):\n",
    "            value = previous_data[j][i]\n",
    "            #if value == '2/11/2008':\n",
    "            #    print(j, i, category_previous[i],value)\n",
    "            if previous_data[j][i] != previous_data[j+1][i]:\n",
    "                #print(previous_data[j][i], j)"
   ]
  },
  {
   "cell_type": "code",
   "execution_count": 948,
   "metadata": {},
   "outputs": [],
   "source": []
  },
  {
   "cell_type": "code",
   "execution_count": 949,
   "metadata": {},
   "outputs": [],
   "source": [
    "march_29_2006 = previous_data[1:30]\n",
    "jan_16_2008 = previous_data[31:40]\n",
    "jan_17_2008 = previous_data[41:46]\n",
    "jan_28_2008 = previous_data[47:51]\n",
    "feb_6_2008 = previous_data[52:77]\n",
    "feb_7_2008 = previous_data[78:158]\n",
    "feb_8_2008 = previous_data[159:198]\n",
    "feb_11_2008 = previous_data[199:208]\n",
    "march_20_2008 = previous_data[209:219]\n",
    "april_2_2008 = previous_data[220:232]\n",
    "april_3_2008 = previous_data[233:241]\n",
    "april_11_2008 = previous_data[242:253]\n",
    "april_23_2008 = previous_data[254:266]\n",
    "may_14_2008 = previous_data[267:276]\n",
    "may_15_2008 = previous_data[277:286]\n",
    "may_30_2008 = previous_data[287:296]\n",
    "june_7_2008 = previous_data[297:306]\n",
    "june_19_2008 = previous_data[307:316]\n",
    "july_14_2008 = previous_data[317:326]\n",
    "july_18_2008 = previous_data[327:338]\n",
    "sept_23_2008 =previous_data[339:347]\n",
    "oct_16_2008 = previous_data[348:358]\n",
    "nov_13_2008 =previous_data[359:370]\n",
    "dec_8_2008=previous_data[371:379]\n",
    "jan_30_2009 =previous_data[380:388]\n",
    "feb_5_2010=previous_data[389:400]\n",
    "feb_9_2010 =previous_data[401:494]\n",
    "feb_10_2010 = previous_data[492:500]\n",
    "feb_16_2010 = previous_data[501:545]\n",
    "feb_1_2011 = previous_data[546:653]\n",
    "feb_2_2011 = previous_data[654:698]\n",
    "feb_8_2011 = previous_data[699:714]\n",
    "feb_2_2012 = previous_data[715:846]\n",
    "feb_3_2012 =previous_data[847:880]\n",
    "feb_9_2012 =previous_data[881:916]\n",
    "feb_4_2013 =previous_data[917:921]\n",
    "feb_6_2013 = previous_data[922:972]\n",
    "feb_11_2013 = previous_data[973:1004]\n",
    "feb_12_2013 = previous_data[1005:1118]\n",
    "feb_15_2013 =previous_data[1119:1129]\n",
    "feb_28_2013=previous_data[1130:1135]\n",
    "feb_3_2014=previous_data[1136:1140]\n",
    "feb_11_2014=previous_data[1141:1197]\n",
    "feb_13_2014=previous_data[1198:1212]\n",
    "feb_19_2014=previous_data[1213:1230]\n",
    "feb_20_2014=previous_data[1231:1238]\n",
    "feb_24_2014=previous_data[1239:1250]\n",
    "feb_3_2015=previous_data[1251:1293]\n",
    "feb_10_2015=previous_data[1294:1403]\n",
    "feb_11_2015=previous_data[1404:1410]\n",
    "feb_12_2015=previous_data[1411:1442]\n",
    "feb_24_2015=previous_data[1443:1451]\n",
    "feb_1_2016=previous_data[1452:1454]\n",
    "feb_2_2016=previous_data[1455:1461]\n",
    "feb_5_2016=previous_data[1462:1542]\n",
    "feb_8_2016=previous_data[1543:1554]\n",
    "feb_9_2016=previous_data[1555:1640]\n",
    "feb_16_2016=previous_data[1641:1649]\n",
    "feb_23_2016=previous_data[1650:1662]\n",
    "jan_30_2017=previous_data[1663:1668]\n",
    "jan_31_2017=previous_data[1669:1679]\n",
    "feb_23_2017=previous_data[1680:1786]\n",
    "feb_24_2017=previous_data[1787:1810]\n",
    "jan_30_2018=previous_data[1811:1936]\n",
    "feb_6_2018=previous_data[1937:1989]"
   ]
  },
  {
   "cell_type": "code",
   "execution_count": 953,
   "metadata": {},
   "outputs": [],
   "source": [
    "dates1 = [march_29_2006, jan_16_2008, jan_17_2008, jan_28_2008 , feb_6_2008, feb_7_2008 , feb_8_2008, feb_11_2008 ,march_20_2008, april_2_2008, april_3_2008, april_11_2008, april_23_2008, may_14_2008, may_15_2008, may_30_2008, june_7_2008,june_19_2008, july_14_2008]\n",
    "dates2 = [july_18_2008, sept_23_2008, oct_16_2008, nov_13_2008 ,dec_8_2008, jan_30_2009, feb_5_2010, feb_9_2010, feb_10_2010, feb_16_2010, feb_1_2011, feb_2_2011 ,feb_8_2011, feb_2_2012, feb_3_2012, feb_9_2012, feb_4_2013, feb_6_2013, feb_11_2013, feb_12_2013 ,feb_15_2013, feb_28_2013, feb_3_2014, feb_11_2014, feb_13_2014, feb_19_2014, feb_20_2014, feb_24_2014, feb_3_2015, feb_10_2015, feb_11_2015, feb_12_2015, feb_24_2015, feb_1_2016, feb_2_2016, feb_5_2016, feb_8_2016, feb_9_2016, feb_16_2016, feb_23_2016, jan_30_2017, jan_31_2017 ,feb_23_2017, feb_24_2017, jan_30_2018, feb_6_2018]\n"
   ]
  },
  {
   "cell_type": "code",
   "execution_count": 957,
   "metadata": {},
   "outputs": [
    {
     "data": {
      "text/plain": [
       "65"
      ]
     },
     "execution_count": 957,
     "metadata": {},
     "output_type": "execute_result"
    }
   ],
   "source": [
    "len(dates1)+len(dates2)"
   ]
  },
  {
   "cell_type": "code",
   "execution_count": 1093,
   "metadata": {},
   "outputs": [],
   "source": [
    "calculated_ozone_avg = []\n",
    "\n",
    "#MICROTOPS CONSTANTS\n",
    "A1=2.923E+00\n",
    "A2=1.093E+00\n",
    "B1=1.011E-01\n",
    "B2=9.070E-02\n",
    "L1=7.177E-01\n",
    "L2=9.165E-01\n",
    "\n",
    "for i in range(len(dates1)):\n",
    "    ozone = (calculate_mean_ozone(dates1[i], A1, A2, B1, B2, L1, L2))\n",
    "    calculated_ozone_avg.append(ozone)\n",
    "             \n",
    "#MICROTOPS WAS RE-CALIBRATED at Mauna Loa, HAWAII after 7/18/2008.\n",
    "A1=2.945E+00\n",
    "A2=1.097E+00\n",
    "B1=1.024E-01\n",
    "B2=9.330E-02\n",
    "L1=7.206E-01\n",
    "L2=8.826E-01   \n",
    "for i in range(len(dates2)):\n",
    "    ozone = (calculate_mean_ozone(dates2[i], A1, A2, B1, B2, L1, L2))\n",
    "    calculated_ozone_avg.append(ozone)\n",
    "             \n",
    "our_data = [feb_5_2019, feb_7_2019]\n",
    "             \n",
    "for i in range(len(our_data)):\n",
    "    ozone = calculate_mean_ozone(our_data[i], A1, A2, B1, B2, L1, L2)\n",
    "    calculated_ozone_avg.append(ozone)"
   ]
  },
  {
   "cell_type": "code",
   "execution_count": 1094,
   "metadata": {},
   "outputs": [
    {
     "data": {
      "text/plain": [
       "[('3/29/2006', 400.45796296853814, 9.70663451535891),\n",
       " ('1/16/2008', 316.7822532392829, 4.4570521267911625),\n",
       " ('1/17/2008', 302.5504460176556, 0.8163420081589363),\n",
       " ('1/28/2008', 326.88889791110444, 1.58831494826211),\n",
       " ('2/6/2008', 289.2733841674759, 52.69017681851586),\n",
       " ('2/7/2008', 281.67167146079726, 8.445640152467853),\n",
       " ('2/8/2008', 278.2803966504932, 6.102053333192699),\n",
       " ('2/11/2008', 277.825293476034, 2.051263416371161),\n",
       " ('3/20/2008', 295.8961796507796, 1.2366601342265808),\n",
       " ('4/2/2008', 350.11589667101833, 14.3027087431728),\n",
       " ('4/3/2008', 333.42444333100076, 1.9846728549131267),\n",
       " ('4/11/2008', 308.72147428924404, 8.646161161779327),\n",
       " ('4/23/2008', 313.1198998894215, 9.010827055068733),\n",
       " ('5/14/2008', 265.62403824105206, 4.608447078898469),\n",
       " ('5/15/2008', 272.6813904295841, 2.7019927744482737),\n",
       " ('5/30/2008', 311.46049328038094, 2.8394282512693003),\n",
       " ('6/7/2008', 313.54097058974037, 2.333804171759218),\n",
       " ('6/19/2008', 283.6266137601377, 2.7832527086654353),\n",
       " ('7/14/2008', 276.4076075187199, 2.60340553588259),\n",
       " ('7/18/2008', 291.58922061983617, 8.735283422926944),\n",
       " ('9/23/2008', 283.49423696354256, 1.7814810581811726),\n",
       " ('10/16/2008', 270.0360876924769, 1.9792280531169226),\n",
       " ('11/13/2008', 244.88327676530488, 4.017141140398356),\n",
       " ('12/8/2008', 293.15205249154394, 2.2660113042946968),\n",
       " ('1/30/2009', 290.04652763081714, 2.5904754974805346),\n",
       " ('2/5/2010', 299.7486205466183, 19.16234245218528),\n",
       " ('2/9/2010', 365.7837446324528, 22.203102905905826),\n",
       " ('2/9/2010', 327.6471062792199, 35.34942541106856),\n",
       " ('2/16/2010', 327.1056557802383, 16.801714434163962),\n",
       " ('2/1/2011', 266.1974433528214, 14.723960644277469),\n",
       " ('2/2/2011', 269.02254922942024, 6.026064492195518),\n",
       " ('2/8/2011', 257.23801724960447, 12.573638784622835),\n",
       " ('2/2/2012', 295.5994651518607, 11.144657053216378),\n",
       " ('2/3/2012', 295.48602345431414, 6.403788316487473),\n",
       " ('2/9/2012', 282.2683542467483, 4.012640912831469),\n",
       " ('2/4/2013', 240.9383442268348, 0.763021879635064),\n",
       " ('2/6/2013', 277.9778742675534, 8.335380687704758),\n",
       " ('2/11/2013', 326.35648655245575, 4.325835653864192),\n",
       " ('2/12/2013', 305.4398859115857, 13.261185407924037),\n",
       " ('2/15/2013', 278.02089610036074, 2.4115896527147926),\n",
       " ('2/28/2013', 276.1000244867279, 2.2040874375287585),\n",
       " ('2/3/2014', 314.55864497780067, 1.355348591128939),\n",
       " ('2/11/2014', 294.3630139482548, 19.57877863638616),\n",
       " ('2/13/2014', 279.5716315277897, 6.697134083745744),\n",
       " ('2/19/2014', 317.7474416184708, 1.9784750519284369),\n",
       " ('2/20/2014', 328.6919485170421, 7.179429578547159),\n",
       " ('2/24/2014', 329.0779687760843, 3.8996809980529155),\n",
       " ('2/3/2015', 296.258795852528, 9.18760189870737),\n",
       " ('2/10/2015', 278.52169706330426, 11.354007442208616),\n",
       " ('2/11/2015', 267.90408661016613, 2.47092146427813),\n",
       " ('2/12/2015', 260.81304575626945, 7.177391555495814),\n",
       " ('2/24/2015', 304.5562047876539, 15.41682792885436),\n",
       " ('2/1/2016', 378.8658506123443, 0.18825392543053),\n",
       " ('2/2/2016', 383.5262582628236, 1.6766711388301843),\n",
       " ('2/5/2016', 299.0854453915872, 8.959616373413466),\n",
       " ('2/8/2016', 273.22519265941565, 1.669109041613081),\n",
       " ('2/9/2016', 276.5712366680268, 14.497025502275509),\n",
       " ('2/16/2016', 260.6611758154196, 5.185097391925766),\n",
       " ('2/23/2016', 300.16800201963156, 4.216375119951312),\n",
       " ('1/30/2017', 270.2075949407813, 0.8116271522726757),\n",
       " ('1/31/2017', 266.54392480096556, 5.197623553693224),\n",
       " ('2/23/2017', 334.68287591780046, 11.986826110710075),\n",
       " ('2/24/2017', 341.24443187855337, 6.354948128057889),\n",
       " ('1/30/2018', 294.5857639348361, 37.618909148900826),\n",
       " ('2/6/2018', 295.7888300804041, 6.399372794814415),\n",
       " ('02/05/2019', 301.290970335896, 14.581190427833036),\n",
       " ('02/07/2019', 307.0451838298857, 24.074529796983366)]"
      ]
     },
     "execution_count": 1094,
     "metadata": {},
     "output_type": "execute_result"
    }
   ],
   "source": [
    "calculated_ozone_avg"
   ]
  },
  {
   "cell_type": "code",
   "execution_count": 1162,
   "metadata": {},
   "outputs": [],
   "source": [
    "avgs = []\n",
    "stds = []\n",
    "dates = []\n",
    "for i in range(len(calculated_ozone_avg)):\n",
    "    std = calculated_ozone_avg[i][2]\n",
    "    if std < 15:\n",
    "        stds.append(std)\n",
    "    \n",
    "        avg = calculated_ozone_avg[i][1]\n",
    "        date = calculated_ozone_avg[i][0]\n",
    "    \n",
    "        avgs.append(avg)\n",
    "        dates.append(date)"
   ]
  },
  {
   "cell_type": "code",
   "execution_count": 1163,
   "metadata": {},
   "outputs": [],
   "source": [
    "new_dates = []\n",
    "for i in dates:\n",
    "    format_str = '%m/%d/%Y'\n",
    "    date = datetime.datetime.strptime(i, format_str)\n",
    "    new_dates.append(date)"
   ]
  },
  {
   "cell_type": "code",
   "execution_count": 1164,
   "metadata": {
    "scrolled": false
   },
   "outputs": [
    {
     "data": {
      "image/png": "[encoded data removed]",
      "text/plain": [
       "<Figure size 1440x756 with 1 Axes>"
      ]
     },
     "metadata": {},
     "output_type": "display_data"
    }
   ],
   "source": [
    "fig, ax = plt.subplots()\n",
    "plt.plot(new_dates, avgs)\n",
    "fig = plt.gcf()\n",
    "fig.set_size_inches(20, 10.5)\n",
    "plt.xlabel('Dates')\n",
    "plt.ylabel('Ozone')\n",
    "plt.title('Ozone Measurements Over Time')\n",
    "\n",
    "import matplotlib.dates as mdates\n",
    "years = mdates.YearLocator() \n",
    "ax.xaxis.set_major_locator(years)\n",
    "\n",
    "datemin = np.datetime64(new_dates[0], 'Y')\n",
    "datemax = np.datetime64(new_dates[-1], 'Y') + np.timedelta64(1, 'Y')\n",
    "\n",
    "ax.set_xlim(datemin, datemax)\n",
    "fig.autofmt_xdate()\n",
    "plt.show()"
   ]
  },
  {
   "cell_type": "code",
   "execution_count": null,
   "metadata": {},
   "outputs": [],
   "source": []
  },
  {
   "cell_type": "code",
   "execution_count": null,
   "metadata": {},
   "outputs": [],
   "source": []
  },
  {
   "cell_type": "code",
   "execution_count": null,
   "metadata": {},
   "outputs": [],
   "source": []
  },
  {
   "cell_type": "code",
   "execution_count": null,
   "metadata": {},
   "outputs": [],
   "source": []
  },
  {
   "cell_type": "code",
   "execution_count": null,
   "metadata": {},
   "outputs": [],
   "source": []
  }
 ],
 "metadata": {
  "kernelspec": {
   "display_name": "Python 3",
   "language": "python",
   "name": "python3"
  },
  "language_info": {
   "codemirror_mode": {
    "name": "ipython",
    "version": 3
   },
   "file_extension": ".py",
   "mimetype": "text/x-python",
   "name": "python",
   "nbconvert_exporter": "python",
   "pygments_lexer": "ipython3",
   "version": "3.6.5"
  }
 },
 "nbformat": 4,
 "nbformat_minor": 2
}
